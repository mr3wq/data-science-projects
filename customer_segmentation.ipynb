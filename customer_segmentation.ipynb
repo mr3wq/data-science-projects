{
 "cells": [
  {
   "cell_type": "code",
   "execution_count": null,
   "id": "701af02f",
   "metadata": {},
   "outputs": [],
   "source": [
    "\n",
    "# Import necessary libraries\n",
    "import pandas as pd\n",
    "import numpy as np\n",
    "import matplotlib.pyplot as plt\n",
    "import seaborn as sns\n",
    "from sklearn.cluster import KMeans\n",
    "from sklearn.preprocessing import StandardScaler\n",
    "from sklearn.metrics import silhouette_score\n",
    "\n",
    "Load the dataset (you will need to replace this with your actual dataset path)\n",
    "df = pd.read_csv('your_dataset.csv')\n",
    "\n",
    "#1. Data Preprocessing\n",
    "Remove missing values and outliers (replace with your own preprocessing steps)\n",
    "df.dropna(inplace=True)\n",
    "\n",
    "#2. Exploratory Data Analysis\n",
    "Visualizing the distribution of Quantity and UnitPrice\n",
    "plt.figure(figsize=(12, 6))\n",
    "plt.subplot(1, 2, 1)\n",
    "sns.histplot(df['Quantity'], bins=50)\n",
    "plt.subplot(1, 2, 2)\n",
    "sns.histplot(df['UnitPrice'], bins=50)\n",
    "plt.show()\n",
    "\n",
    "#3. Feature Engineering\n",
    "Create a feature for total purchase\n",
    "df['TotalPurchase'] = df['Quantity'] * df['UnitPrice']\n",
    "\n",
    "#4. Data Standardization\n",
    "features_to_scale = ['Quantity', 'UnitPrice', 'TotalPurchase']\n",
    "scaler = StandardScaler()\n",
    "df_scaled = scaler.fit_transform(df[features_to_scale])\n",
    "\n",
    "#5. Modeling\n",
    "kmeans = KMeans(n_clusters=3, random_state=0)\n",
    "cluster_labels = kmeans.fit_predict(df_scaled)\n",
    "\n",
    "#6. Evaluation\n",
    "silhouette_avg = silhouette_score(df_scaled, cluster_labels)\n",
    "print(f'Silhouette Score: {silhouette_avg}')\n",
    "\n",
    "Add cluster labels to the original DataFrame and analyze\n",
    "df['Cluster'] = cluster_labels\n",
    "df.groupby('Cluster').mean()\n"
   ]
  }
 ],
 "metadata": {
  "colab": {
   "name": "Customer Segmentation using K-Means Clustering",
   "provenance": []
  },
  "kernelspec": {
   "display_name": "Python 3 (ipykernel)",
   "language": "python",
   "name": "python3"
  },
  "language_info": {
   "codemirror_mode": {
    "name": "ipython",
    "version": 3
   },
   "file_extension": ".py",
   "mimetype": "text/x-python",
   "name": "python",
   "nbconvert_exporter": "python",
   "pygments_lexer": "ipython3",
   "version": "3.9.7"
  }
 },
 "nbformat": 4,
 "nbformat_minor": 5
}

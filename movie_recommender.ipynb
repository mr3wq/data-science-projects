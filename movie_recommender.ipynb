{
 "cells": [
  {
   "cell_type": "code",
   "execution_count": null,
   "id": "74587a0e",
   "metadata": {},
   "outputs": [],
   "source": [
    "\n",
    "# Import necessary libraries\n",
    "from surprise import Dataset, Reader\n",
    "from surprise import SVD\n",
    "from surprise.model_selection import cross_validate\n",
    "\n",
    "# Load your dataset here\n",
    "df = pd.read_csv('your_dataset.csv')\n",
    "reader = Reader(rating_scale=(1, 5))\n",
    "data = Dataset.load_from_df(df[['UserID', 'MovieID', 'Rating']], reader)\n",
    "\n",
    "# Build and train the SVD recommender model\n",
    "svd_model = SVD()\n",
    "cross_validate(svd_model, data, measures=['RMSE', 'MAE'], cv=5, verbose=True)\n",
    "\n",
    "# Make predictions\n",
    "trainset = data.build_full_trainset()\n",
    "svd_model.fit(trainset)\n",
    "predictions = svd_model.test(trainset.build_testset())\n"
   ]
  }
 ],
 "metadata": {
  "colab": {
   "name": "movie_recommender.ipynb",
   "provenance": []
  },
  "kernelspec": {
   "display_name": "Python 3 (ipykernel)",
   "language": "python",
   "name": "python3"
  },
  "language_info": {
   "codemirror_mode": {
    "name": "ipython",
    "version": 3
   },
   "file_extension": ".py",
   "mimetype": "text/x-python",
   "name": "python",
   "nbconvert_exporter": "python",
   "pygments_lexer": "ipython3",
   "version": "3.9.7"
  }
 },
 "nbformat": 4,
 "nbformat_minor": 5
}

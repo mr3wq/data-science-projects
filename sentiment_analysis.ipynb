{
 "cells": [
  {
   "cell_type": "code",
   "execution_count": null,
   "id": "60be1b7f",
   "metadata": {},
   "outputs": [],
   "source": [
    "\n",
    "# Import necessary libraries\n",
    "import pandas as pd\n",
    "import numpy as np\n",
    "from sklearn.model_selection import train_test_split\n",
    "from sklearn.feature_extraction.text import TfidfVectorizer\n",
    "from sklearn.linear_model import LogisticRegression\n",
    "from sklearn.metrics import accuracy_score, confusion_matrix, classification_report\n",
    "\n",
    "#Load the dataset (you will need to replace this with your actual dataset path)\n",
    "df = pd.read_csv('your_dataset.csv')\n",
    "\n",
    "#1. Data Preprocessing\n",
    "#Remove missing values and outliers (replace with your own preprocessing steps)\n",
    "df.dropna(inplace=True)\n",
    "\n",
    "#2. Text Preprocessing\n",
    "#Tokenize text, remove stop words, and apply stemming/lemmatization (replace with your actual preprocessing steps)\n",
    "#Preprocessed text should be in a new column, let's assume it's named 'cleaned_text'\n",
    "\n",
    "#3. Feature Extraction\n",
    "tfidf_vectorizer = TfidfVectorizer()\n",
    "X_tfidf = tfidf_vectorizer.fit_transform(df['cleaned_text'])\n",
    "\n",
    "#4. Modeling\n",
    "X_train, X_test, y_train, y_test = train_test_split(X_tfidf, df['Sentiment'], test_size=0.2, random_state=42)\n",
    "model = LogisticRegression()\n",
    "model.fit(X_train, y_train)\n",
    "y_pred = model.predict(X_test)\n",
    "\n",
    "#5. Evaluation\n",
    "print(f'Accuracy: {accuracy_score(y_test, y_pred)}')\n",
    "print(f'Confusion Matrix:\\n{confusion_matrix(y_test, y_pred)}')\n",
    "print(f'Classification Report:\\n{classification_report(y_test, y_pred)}')\n"
   ]
  }
 ],
 "metadata": {
  "colab": {
   "name": "Sentiment Analysis of Product Reviews",
   "provenance": []
  },
  "kernelspec": {
   "display_name": "Python 3 (ipykernel)",
   "language": "python",
   "name": "python3"
  },
  "language_info": {
   "codemirror_mode": {
    "name": "ipython",
    "version": 3
   },
   "file_extension": ".py",
   "mimetype": "text/x-python",
   "name": "python",
   "nbconvert_exporter": "python",
   "pygments_lexer": "ipython3",
   "version": "3.9.7"
  }
 },
 "nbformat": 4,
 "nbformat_minor": 5
}

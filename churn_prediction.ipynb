{
 "cells": [
  {
   "cell_type": "code",
   "execution_count": null,
   "id": "23d077fa",
   "metadata": {},
   "outputs": [],
   "source": [
    "\n",
    "# Import necessary libraries\n",
    "import pandas as pd\n",
    "from sklearn.model_selection import train_test_split\n",
    "from sklearn.ensemble import RandomForestClassifier\n",
    "from sklearn.metrics import classification_report, confusion_matrix\n",
    "\n",
    "# Load your dataset here\n",
    "df = pd.read_csv('your_dataset.csv')\n",
    "\n",
    "# Preprocessing and feature engineering\n",
    "# Handle missing values, encode categorical variables, etc.\n",
    "# Import necessary libraries\n",
    "import pandas as pd\n",
    "from sklearn.preprocessing import LabelEncoder, StandardScaler\n",
    "from sklearn.model_selection import train_test_split\n",
    "\n",
    "# Load your dataset here\n",
    "# df = pd.read_csv('your_dataset.csv')\n",
    "\n",
    "# Data Preprocessing\n",
    "\n",
    "## Handle Missing Values\n",
    "# df.fillna(0, inplace=True)  # Replace NaNs with 0\n",
    "\n",
    "## Convert categorical columns to numerical using Label Encoding\n",
    "label_encoder = LabelEncoder()\n",
    "categorical_columns = ['ContractType', 'PaymentMethod']  # Replace with your actual categorical columns\n",
    "for column in categorical_columns:\n",
    "    df[column] = label_encoder.fit_transform(df[column])\n",
    "\n",
    "# Feature Engineering\n",
    "\n",
    "## Create new features, for example, interaction between MonthlyCharge and ContractLength\n",
    "# df['MonthlyChargeContractLength'] = df['MonthlyCharge'] * df['ContractLength']\n",
    "\n",
    "## Drop unnecessary columns\n",
    "# df.drop(['CustomerID'], axis=1, inplace=True)  # Replace 'CustomerID' with your actual identifier column\n",
    "\n",
    "# Data Standardization\n",
    "scaler = StandardScaler()\n",
    "scaled_columns = ['MonthlyCharge', 'ContractLength']  # Replace with the columns you want to scale\n",
    "df[scaled_columns] = scaler.fit_transform(df[scaled_columns])\n",
    "\n",
    "# Train-Test Split\n",
    "y = df['Churn']  # Target variable\n",
    "X = df.drop('Churn', axis=1)  # Feature matrix\n",
    "\n",
    "# Train-Test Split\n",
    "X_train, X_test, y_train, y_test = train_test_split(X, y, test_size=0.2, random_state=42)\n",
    "\n",
    "# Build the Random Forest model\n",
    "model = RandomForestClassifier(n_estimators=100, random_state=42)\n",
    "model.fit(X_train, y_train)\n",
    "\n",
    "# Make predictions\n",
    "y_pred = model.predict(X_test)\n",
    "\n",
    "# Evaluate the model\n",
    "print(confusion_matrix(y_test, y_pred))\n",
    "print(classification_report(y_test, y_pred))\n"
   ]
  }
 ],
 "metadata": {
  "colab": {
   "name": "churn_prediction.ipynb",
   "provenance": []
  },
  "kernelspec": {
   "display_name": "Python 3 (ipykernel)",
   "language": "python",
   "name": "python3"
  },
  "language_info": {
   "codemirror_mode": {
    "name": "ipython",
    "version": 3
   },
   "file_extension": ".py",
   "mimetype": "text/x-python",
   "name": "python",
   "nbconvert_exporter": "python",
   "pygments_lexer": "ipython3",
   "version": "3.9.7"
  }
 },
 "nbformat": 4,
 "nbformat_minor": 5
}
